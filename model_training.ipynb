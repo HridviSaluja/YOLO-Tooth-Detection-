{
  "nbformat": 4,
  "nbformat_minor": 0,
  "metadata": {
    "colab": {
      "provenance": [],
      "gpuType": "T4"
    },
    "kernelspec": {
      "name": "python3",
      "display_name": "Python 3"
    },
    "language_info": {
      "name": "python"
    },
    "accelerator": "GPU"
  },
  "cells": [
    {
      "cell_type": "code",
      "execution_count": 1,
      "metadata": {
        "colab": {
          "base_uri": "https://localhost:8080/"
        },
        "id": "icrsJVV8SvhS",
        "outputId": "94a4e0d3-d0db-495a-ae05-9a23833efcae"
      },
      "outputs": [
        {
          "output_type": "stream",
          "name": "stdout",
          "text": [
            "\u001b[?25l   \u001b[90m━━━━━━━━━━━━━━━━━━━━━━━━━━━━━━━━━━━━━━━━\u001b[0m \u001b[32m0.0/1.1 MB\u001b[0m \u001b[31m?\u001b[0m eta \u001b[36m-:--:--\u001b[0m\r\u001b[2K   \u001b[90m━━━━━━━━━━━━━━━━━━━━━━━━━━━━━━━━━━━━━━━━\u001b[0m \u001b[32m1.1/1.1 MB\u001b[0m \u001b[31m35.4 MB/s\u001b[0m eta \u001b[36m0:00:00\u001b[0m\n",
            "\u001b[?25h"
          ]
        }
      ],
      "source": [
        "!pip install --upgrade --quiet ultralytics"
      ]
    },
    {
      "cell_type": "code",
      "source": [
        "from ultralytics import YOLO"
      ],
      "metadata": {
        "colab": {
          "base_uri": "https://localhost:8080/"
        },
        "id": "4HB3cY-cS1-B",
        "outputId": "06e17e7e-c43d-4351-c6c2-2b1714276983"
      },
      "execution_count": 2,
      "outputs": [
        {
          "output_type": "stream",
          "name": "stdout",
          "text": [
            "Creating new Ultralytics Settings v0.0.6 file ✅ \n",
            "View Ultralytics Settings with 'yolo settings' or at '/root/.config/Ultralytics/settings.json'\n",
            "Update Settings with 'yolo settings key=value', i.e. 'yolo settings runs_dir=path/to/dir'. For help see https://docs.ultralytics.com/quickstart/#ultralytics-settings.\n"
          ]
        }
      ]
    },
    {
      "cell_type": "code",
      "source": [
        "model = YOLO('yolov9s.pt')"
      ],
      "metadata": {
        "colab": {
          "base_uri": "https://localhost:8080/"
        },
        "id": "mj4m0FuZS2BR",
        "outputId": "900b09da-72c6-47e0-80d2-bb8b19279584"
      },
      "execution_count": 3,
      "outputs": [
        {
          "output_type": "stream",
          "name": "stdout",
          "text": [
            "\u001b[KDownloading https://github.com/ultralytics/assets/releases/download/v8.3.0/yolov9s.pt to 'yolov9s.pt': 100% ━━━━━━━━━━━━ 14.7/14.7MB 99.5MB/s 0.1s\n"
          ]
        }
      ]
    },
    {
      "cell_type": "code",
      "source": [
        "path = '/content/drive/MyDrive/ToothNumber_TaskDataset/split_dataset/data.yaml'"
      ],
      "metadata": {
        "id": "C2-FuSX3XTDc"
      },
      "execution_count": 4,
      "outputs": []
    },
    {
      "cell_type": "code",
      "source": [
        "results = model.train(data=path,\n",
        "                      imgsz=640,\n",
        "                      epochs=100,\n",
        "                      batch=16,\n",
        "                      optimizer='SGD',\n",
        "                      lr0=0.01,\n",
        "                      lrf=0.01,                                            # final LR fraction\n",
        "                      momentum=0.937,                                      # SGD momentum\n",
        "                      weight_decay=0.0005,                                 # regularization\n",
        "                      warmup_epochs=3,                                     # warmup period\n",
        "                      patience=20,                                         # early stopping patience\n",
        "                      degrees=5,                                           # rotation augmentation\n",
        "                      translate=0.1,                                       # translation augmentation\n",
        "                      scale=0.5,                                           # scaling augmentation\n",
        "                      shear=0.0,                                           # shearing\n",
        "                      perspective=0.0,                                     # perspective change\n",
        "                      flipud=0.0,                                          # vertical flip (not useful for X-rays)\n",
        "                      fliplr=0.5,                                          # horizontal flip (teeth symmetry helps)\n",
        "                      hsv_h=0.015,                                         # HSV hue augmentation\n",
        "                      hsv_s=0.7,                                           # HSV saturation\n",
        "                      hsv_v=0.4,                                           # HSV brightness\n",
        "                      mosaic=1.0,                                          # mosaic augmentation\n",
        "                      mixup=0.0,                                           # mixup (disable for medical images)\n",
        "                      cache=True  )"
      ],
      "metadata": {
        "colab": {
          "base_uri": "https://localhost:8080/"
        },
        "id": "mm2zIFyhS2Eo",
        "outputId": "635774b4-76c7-4397-b585-b49481f4d49e"
      },
      "execution_count": 5,
      "outputs": [
        {
          "output_type": "stream",
          "name": "stdout",
          "text": [
            "Ultralytics 8.3.189 🚀 Python-3.12.11 torch-2.8.0+cu126 CUDA:0 (Tesla T4, 15095MiB)\n",
            "\u001b[34m\u001b[1mengine/trainer: \u001b[0magnostic_nms=False, amp=True, augment=False, auto_augment=randaugment, batch=16, bgr=0.0, box=7.5, cache=True, cfg=None, classes=None, close_mosaic=10, cls=0.5, conf=None, copy_paste=0.0, copy_paste_mode=flip, cos_lr=False, cutmix=0.0, data=/content/drive/MyDrive/ToothNumber_TaskDataset/split_dataset/data.yaml, degrees=5, deterministic=True, device=None, dfl=1.5, dnn=False, dropout=0.0, dynamic=False, embed=None, epochs=100, erasing=0.4, exist_ok=False, fliplr=0.5, flipud=0.0, format=torchscript, fraction=1.0, freeze=None, half=False, hsv_h=0.015, hsv_s=0.7, hsv_v=0.4, imgsz=640, int8=False, iou=0.7, keras=False, kobj=1.0, line_width=None, lr0=0.01, lrf=0.01, mask_ratio=4, max_det=300, mixup=0.0, mode=train, model=yolov9s.pt, momentum=0.937, mosaic=1.0, multi_scale=False, name=train, nbs=64, nms=False, opset=None, optimize=False, optimizer=SGD, overlap_mask=True, patience=20, perspective=0.0, plots=True, pose=12.0, pretrained=True, profile=False, project=None, rect=False, resume=False, retina_masks=False, save=True, save_conf=False, save_crop=False, save_dir=runs/detect/train, save_frames=False, save_json=False, save_period=-1, save_txt=False, scale=0.5, seed=0, shear=0.0, show=False, show_boxes=True, show_conf=True, show_labels=True, simplify=True, single_cls=False, source=None, split=val, stream_buffer=False, task=detect, time=None, tracker=botsort.yaml, translate=0.1, val=True, verbose=True, vid_stride=1, visualize=False, warmup_bias_lr=0.1, warmup_epochs=3, warmup_momentum=0.8, weight_decay=0.0005, workers=8, workspace=None\n",
            "\u001b[KDownloading https://ultralytics.com/assets/Arial.ttf to '/root/.config/Ultralytics/Arial.ttf': 100% ━━━━━━━━━━━━ 755.1/755.1KB 35.7MB/s 0.0s\n",
            "Overriding model.yaml nc=80 with nc=32\n",
            "\n",
            "                   from  n    params  module                                       arguments                     \n",
            "  0                  -1  1       928  ultralytics.nn.modules.conv.Conv             [3, 32, 3, 2]                 \n",
            "  1                  -1  1     18560  ultralytics.nn.modules.conv.Conv             [32, 64, 3, 2]                \n",
            "  2                  -1  1     31104  ultralytics.nn.modules.block.ELAN1           [64, 64, 64, 32]              \n",
            "  3                  -1  1     73984  ultralytics.nn.modules.block.AConv           [64, 128]                     \n",
            "  4                  -1  1    258432  ultralytics.nn.modules.block.RepNCSPELAN4    [128, 128, 128, 64, 3]        \n",
            "  5                  -1  1    221568  ultralytics.nn.modules.block.AConv           [128, 192]                    \n",
            "  6                  -1  1    579648  ultralytics.nn.modules.block.RepNCSPELAN4    [192, 192, 192, 96, 3]        \n",
            "  7                  -1  1    442880  ultralytics.nn.modules.block.AConv           [192, 256]                    \n",
            "  8                  -1  1   1028864  ultralytics.nn.modules.block.RepNCSPELAN4    [256, 256, 256, 128, 3]       \n",
            "  9                  -1  1    164608  ultralytics.nn.modules.block.SPPELAN         [256, 256, 128]               \n",
            " 10                  -1  1         0  torch.nn.modules.upsampling.Upsample         [None, 2, 'nearest']          \n",
            " 11             [-1, 6]  1         0  ultralytics.nn.modules.conv.Concat           [1]                           \n",
            " 12                  -1  1    628800  ultralytics.nn.modules.block.RepNCSPELAN4    [448, 192, 192, 96, 3]        \n",
            " 13                  -1  1         0  torch.nn.modules.upsampling.Upsample         [None, 2, 'nearest']          \n",
            " 14             [-1, 4]  1         0  ultralytics.nn.modules.conv.Concat           [1]                           \n",
            " 15                  -1  1    283008  ultralytics.nn.modules.block.RepNCSPELAN4    [320, 128, 128, 64, 3]        \n",
            " 16                  -1  1    110784  ultralytics.nn.modules.block.AConv           [128, 96]                     \n",
            " 17            [-1, 12]  1         0  ultralytics.nn.modules.conv.Concat           [1]                           \n",
            " 18                  -1  1    598080  ultralytics.nn.modules.block.RepNCSPELAN4    [288, 192, 192, 96, 3]        \n",
            " 19                  -1  1    221440  ultralytics.nn.modules.block.AConv           [192, 128]                    \n",
            " 20             [-1, 9]  1         0  ultralytics.nn.modules.conv.Concat           [1]                           \n",
            " 21                  -1  1   1061632  ultralytics.nn.modules.block.RepNCSPELAN4    [384, 256, 256, 128, 3]       \n",
            " 22        [15, 18, 21]  1   1575472  ultralytics.nn.modules.head.Detect           [32, [128, 192, 256]]         \n",
            "YOLOv9s summary: 544 layers, 7,299,792 parameters, 7,299,776 gradients, 27.5 GFLOPs\n",
            "\n",
            "Transferred 1333/1339 items from pretrained weights\n",
            "Freezing layer 'model.22.dfl.conv.weight'\n",
            "\u001b[34m\u001b[1mAMP: \u001b[0mrunning Automatic Mixed Precision (AMP) checks...\n",
            "\u001b[KDownloading https://github.com/ultralytics/assets/releases/download/v8.3.0/yolo11n.pt to 'yolo11n.pt': 100% ━━━━━━━━━━━━ 5.4/5.4MB 134.5MB/s 0.0s\n",
            "\u001b[34m\u001b[1mAMP: \u001b[0mchecks passed ✅\n",
            "\u001b[34m\u001b[1mtrain: \u001b[0mFast image access ✅ (ping: 1.1±1.4 ms, read: 0.1±0.1 MB/s, size: 88.3 KB)\n",
            "\u001b[K\u001b[34m\u001b[1mtrain: \u001b[0mScanning /content/drive/MyDrive/ToothNumber_TaskDataset/split_dataset/train/labels.cache... 397 images, 0 backgrounds, 0 corrupt: 100% ━━━━━━━━━━━━ 397/397 524288.0it/s 0.0s\n",
            "WARNING ⚠️ Box and segment counts should be equal, but got len(segments) = 97, len(boxes) = 11047. To resolve this only boxes will be used and all segments will be removed. To avoid this please supply either a detect or segment dataset, not a detect-segment mixed dataset.\n",
            "WARNING ⚠️ cache='ram' may produce non-deterministic training results. Consider cache='disk' as a deterministic alternative if your disk space allows.\n",
            "\u001b[K\u001b[34m\u001b[1mtrain: \u001b[0mCaching images (0.5GB RAM): 100% ━━━━━━━━━━━━ 397/397 143.9it/s 2.8s\n",
            "\u001b[34m\u001b[1malbumentations: \u001b[0mBlur(p=0.01, blur_limit=(3, 7)), MedianBlur(p=0.01, blur_limit=(3, 7)), ToGray(p=0.01, method='weighted_average', num_output_channels=3), CLAHE(p=0.01, clip_limit=(1.0, 4.0), tile_grid_size=(8, 8))\n",
            "\u001b[34m\u001b[1mval: \u001b[0mFast image access ✅ (ping: 0.6±0.2 ms, read: 0.1±0.0 MB/s, size: 58.4 KB)\n",
            "\u001b[K\u001b[34m\u001b[1mval: \u001b[0mScanning /content/drive/MyDrive/ToothNumber_TaskDataset/split_dataset/val/labels.cache... 50 images, 0 backgrounds, 0 corrupt: 100% ━━━━━━━━━━━━ 50/50 61680.9it/s 0.0s\n",
            "WARNING ⚠️ cache='ram' may produce non-deterministic training results. Consider cache='disk' as a deterministic alternative if your disk space allows.\n",
            "\u001b[K\u001b[34m\u001b[1mval: \u001b[0mCaching images (0.1GB RAM): 100% ━━━━━━━━━━━━ 50/50 2.3it/s 21.5s\n",
            "Plotting labels to runs/detect/train/labels.jpg... \n",
            "\u001b[34m\u001b[1moptimizer:\u001b[0m SGD(lr=0.01, momentum=0.937) with parameter groups 221 weight(decay=0.0), 228 weight(decay=0.0005), 227 bias(decay=0.0)\n",
            "Image sizes 640 train, 640 val\n",
            "Using 2 dataloader workers\n",
            "Logging results to \u001b[1mruns/detect/train\u001b[0m\n",
            "Starting training for 100 epochs...\n",
            "\n",
            "      Epoch    GPU_mem   box_loss   cls_loss   dfl_loss  Instances       Size\n",
            "\u001b[K      1/100      5.49G       2.18      5.111      1.916        444        640: 100% ━━━━━━━━━━━━ 25/25 1.6it/s 15.3s\n",
            "\u001b[K                 Class     Images  Instances      Box(P          R      mAP50  mAP50-95): 100% ━━━━━━━━━━━━ 2/2 0.79it/s 2.5s\n",
            "                   all         50       1468      0.139       0.16     0.0152    0.00577\n",
            "\n",
            "      Epoch    GPU_mem   box_loss   cls_loss   dfl_loss  Instances       Size\n",
            "\u001b[K      2/100      5.85G      1.536      2.889      1.416        592        640: 100% ━━━━━━━━━━━━ 25/25 2.4it/s 10.5s\n",
            "\u001b[K                 Class     Images  Instances      Box(P          R      mAP50  mAP50-95): 100% ━━━━━━━━━━━━ 2/2 2.2it/s 0.9s\n",
            "                   all         50       1468      0.222      0.611      0.214      0.127\n",
            "\n",
            "      Epoch    GPU_mem   box_loss   cls_loss   dfl_loss  Instances       Size\n",
            "\u001b[K      3/100      5.88G      1.498      2.141      1.385        778        640: 100% ━━━━━━━━━━━━ 25/25 2.3it/s 11.0s\n",
            "\u001b[K                 Class     Images  Instances      Box(P          R      mAP50  mAP50-95): 100% ━━━━━━━━━━━━ 2/2 2.7it/s 0.7s\n",
            "                   all         50       1468      0.283      0.574      0.268      0.161\n",
            "\n",
            "      Epoch    GPU_mem   box_loss   cls_loss   dfl_loss  Instances       Size\n",
            "\u001b[K      4/100       5.9G      1.523      2.027      1.396        545        640: 100% ━━━━━━━━━━━━ 25/25 2.2it/s 11.1s\n",
            "\u001b[K                 Class     Images  Instances      Box(P          R      mAP50  mAP50-95): 100% ━━━━━━━━━━━━ 2/2 3.0it/s 0.7s\n",
            "                   all         50       1468      0.278      0.738      0.359      0.201\n",
            "\n",
            "      Epoch    GPU_mem   box_loss   cls_loss   dfl_loss  Instances       Size\n",
            "\u001b[K      5/100       5.9G      1.528      1.863      1.376        658        640: 100% ━━━━━━━━━━━━ 25/25 2.2it/s 11.1s\n",
            "\u001b[K                 Class     Images  Instances      Box(P          R      mAP50  mAP50-95): 100% ━━━━━━━━━━━━ 2/2 3.3it/s 0.6s\n",
            "                   all         50       1468       0.25      0.661      0.317      0.153\n",
            "\n",
            "      Epoch    GPU_mem   box_loss   cls_loss   dfl_loss  Instances       Size\n",
            "\u001b[K      6/100       5.9G      1.425      1.845      1.328        553        640: 100% ━━━━━━━━━━━━ 25/25 2.3it/s 11.0s\n",
            "\u001b[K                 Class     Images  Instances      Box(P          R      mAP50  mAP50-95): 100% ━━━━━━━━━━━━ 2/2 3.4it/s 0.6s\n",
            "                   all         50       1468      0.303      0.719      0.366      0.172\n",
            "\n",
            "      Epoch    GPU_mem   box_loss   cls_loss   dfl_loss  Instances       Size\n",
            "\u001b[K      7/100       5.9G      1.449       1.71       1.33        653        640: 100% ━━━━━━━━━━━━ 25/25 2.4it/s 10.5s\n",
            "\u001b[K                 Class     Images  Instances      Box(P          R      mAP50  mAP50-95): 100% ━━━━━━━━━━━━ 2/2 2.7it/s 0.7s\n",
            "                   all         50       1468      0.345      0.742      0.406      0.194\n",
            "\n",
            "      Epoch    GPU_mem   box_loss   cls_loss   dfl_loss  Instances       Size\n",
            "\u001b[K      8/100       5.9G      1.425      1.651      1.289        591        640: 100% ━━━━━━━━━━━━ 25/25 2.5it/s 9.9s\n",
            "\u001b[K                 Class     Images  Instances      Box(P          R      mAP50  mAP50-95): 100% ━━━━━━━━━━━━ 2/2 2.9it/s 0.7s\n",
            "                   all         50       1468      0.414      0.796      0.522      0.274\n",
            "\n",
            "      Epoch    GPU_mem   box_loss   cls_loss   dfl_loss  Instances       Size\n",
            "\u001b[K      9/100       5.9G      1.424      1.509      1.332        482        640: 100% ━━━━━━━━━━━━ 25/25 2.4it/s 10.4s\n",
            "\u001b[K                 Class     Images  Instances      Box(P          R      mAP50  mAP50-95): 100% ━━━━━━━━━━━━ 2/2 3.5it/s 0.6s\n",
            "                   all         50       1468       0.48      0.754      0.587      0.274\n",
            "\n",
            "      Epoch    GPU_mem   box_loss   cls_loss   dfl_loss  Instances       Size\n",
            "\u001b[K     10/100       5.9G      1.423      1.449      1.309        544        640: 100% ━━━━━━━━━━━━ 25/25 2.3it/s 10.9s\n",
            "\u001b[K                 Class     Images  Instances      Box(P          R      mAP50  mAP50-95): 100% ━━━━━━━━━━━━ 2/2 3.5it/s 0.6s\n",
            "                   all         50       1468      0.435      0.782      0.531      0.279\n",
            "\n",
            "      Epoch    GPU_mem   box_loss   cls_loss   dfl_loss  Instances       Size\n",
            "\u001b[K     11/100       5.9G      1.371      1.434      1.308        602        640: 100% ━━━━━━━━━━━━ 25/25 2.2it/s 11.1s\n",
            "\u001b[K                 Class     Images  Instances      Box(P          R      mAP50  mAP50-95): 100% ━━━━━━━━━━━━ 2/2 3.4it/s 0.6s\n",
            "                   all         50       1468      0.424      0.815      0.522      0.301\n",
            "\n",
            "      Epoch    GPU_mem   box_loss   cls_loss   dfl_loss  Instances       Size\n",
            "\u001b[K     12/100       5.9G      1.327      1.379      1.285        536        640: 100% ━━━━━━━━━━━━ 25/25 2.3it/s 11.0s\n",
            "\u001b[K                 Class     Images  Instances      Box(P          R      mAP50  mAP50-95): 100% ━━━━━━━━━━━━ 2/2 3.4it/s 0.6s\n",
            "                   all         50       1468      0.437      0.855      0.503      0.277\n",
            "\n",
            "      Epoch    GPU_mem   box_loss   cls_loss   dfl_loss  Instances       Size\n",
            "\u001b[K     13/100       5.9G      1.332       1.36       1.28        755        640: 100% ━━━━━━━━━━━━ 25/25 2.3it/s 10.8s\n",
            "\u001b[K                 Class     Images  Instances      Box(P          R      mAP50  mAP50-95): 100% ━━━━━━━━━━━━ 2/2 3.1it/s 0.6s\n",
            "                   all         50       1468      0.454      0.896      0.533      0.317\n",
            "\n",
            "      Epoch    GPU_mem   box_loss   cls_loss   dfl_loss  Instances       Size\n",
            "\u001b[K     14/100      5.93G      1.368      1.317      1.283        462        640: 100% ━━━━━━━━━━━━ 25/25 2.5it/s 10.0s\n",
            "\u001b[K                 Class     Images  Instances      Box(P          R      mAP50  mAP50-95): 100% ━━━━━━━━━━━━ 2/2 3.0it/s 0.7s\n",
            "                   all         50       1468      0.453      0.831      0.595      0.331\n",
            "\n",
            "      Epoch    GPU_mem   box_loss   cls_loss   dfl_loss  Instances       Size\n",
            "\u001b[K     15/100      5.93G      1.327      1.282      1.267        759        640: 100% ━━━━━━━━━━━━ 25/25 2.5it/s 10.1s\n",
            "\u001b[K                 Class     Images  Instances      Box(P          R      mAP50  mAP50-95): 100% ━━━━━━━━━━━━ 2/2 3.5it/s 0.6s\n",
            "                   all         50       1468      0.501       0.85      0.631      0.372\n",
            "\n",
            "      Epoch    GPU_mem   box_loss   cls_loss   dfl_loss  Instances       Size\n",
            "\u001b[K     16/100      5.93G      1.346       1.27      1.263        748        640: 100% ━━━━━━━━━━━━ 25/25 2.2it/s 11.1s\n",
            "\u001b[K                 Class     Images  Instances      Box(P          R      mAP50  mAP50-95): 100% ━━━━━━━━━━━━ 2/2 3.4it/s 0.6s\n",
            "                   all         50       1468      0.491      0.859      0.636      0.397\n",
            "\n",
            "      Epoch    GPU_mem   box_loss   cls_loss   dfl_loss  Instances       Size\n",
            "\u001b[K     17/100      5.93G      1.284      1.263      1.259        480        640: 100% ━━━━━━━━━━━━ 25/25 2.3it/s 11.0s\n",
            "\u001b[K                 Class     Images  Instances      Box(P          R      mAP50  mAP50-95): 100% ━━━━━━━━━━━━ 2/2 3.5it/s 0.6s\n",
            "                   all         50       1468      0.508      0.815      0.651      0.344\n",
            "\n",
            "      Epoch    GPU_mem   box_loss   cls_loss   dfl_loss  Instances       Size\n",
            "\u001b[K     18/100      5.93G       1.27      1.245      1.281        541        640: 100% ━━━━━━━━━━━━ 25/25 2.3it/s 10.9s\n",
            "\u001b[K                 Class     Images  Instances      Box(P          R      mAP50  mAP50-95): 100% ━━━━━━━━━━━━ 2/2 3.6it/s 0.6s\n",
            "                   all         50       1468      0.533       0.81       0.69      0.389\n",
            "\n",
            "      Epoch    GPU_mem   box_loss   cls_loss   dfl_loss  Instances       Size\n",
            "\u001b[K     19/100      5.93G      1.288      1.208      1.253        476        640: 100% ━━━━━━━━━━━━ 25/25 2.3it/s 10.8s\n",
            "\u001b[K                 Class     Images  Instances      Box(P          R      mAP50  mAP50-95): 100% ━━━━━━━━━━━━ 2/2 3.4it/s 0.6s\n",
            "                   all         50       1468      0.522      0.812      0.683      0.416\n",
            "\n",
            "      Epoch    GPU_mem   box_loss   cls_loss   dfl_loss  Instances       Size\n",
            "\u001b[K     20/100      5.93G      1.295      1.215      1.257        353        640: 100% ━━━━━━━━━━━━ 25/25 2.4it/s 10.3s\n",
            "\u001b[K                 Class     Images  Instances      Box(P          R      mAP50  mAP50-95): 100% ━━━━━━━━━━━━ 2/2 2.8it/s 0.7s\n",
            "                   all         50       1468      0.493      0.867      0.624      0.386\n",
            "\n",
            "      Epoch    GPU_mem   box_loss   cls_loss   dfl_loss  Instances       Size\n",
            "\u001b[K     21/100      5.93G      1.248      1.201      1.234        547        640: 100% ━━━━━━━━━━━━ 25/25 2.5it/s 10.0s\n",
            "\u001b[K                 Class     Images  Instances      Box(P          R      mAP50  mAP50-95): 100% ━━━━━━━━━━━━ 2/2 3.5it/s 0.6s\n",
            "                   all         50       1468      0.502      0.827      0.601      0.349\n",
            "\n",
            "      Epoch    GPU_mem   box_loss   cls_loss   dfl_loss  Instances       Size\n",
            "\u001b[K     22/100      5.93G       1.26      1.172      1.248        347        640: 100% ━━━━━━━━━━━━ 25/25 2.3it/s 10.7s\n",
            "\u001b[K                 Class     Images  Instances      Box(P          R      mAP50  mAP50-95): 100% ━━━━━━━━━━━━ 2/2 3.5it/s 0.6s\n",
            "                   all         50       1468      0.517      0.835       0.63      0.351\n",
            "\n",
            "      Epoch    GPU_mem   box_loss   cls_loss   dfl_loss  Instances       Size\n",
            "\u001b[K     23/100      5.93G      1.253      1.156      1.236        520        640: 100% ━━━━━━━━━━━━ 25/25 2.3it/s 11.0s\n",
            "\u001b[K                 Class     Images  Instances      Box(P          R      mAP50  mAP50-95): 100% ━━━━━━━━━━━━ 2/2 3.5it/s 0.6s\n",
            "                   all         50       1468      0.626      0.825      0.783      0.463\n",
            "\n",
            "      Epoch    GPU_mem   box_loss   cls_loss   dfl_loss  Instances       Size\n",
            "\u001b[K     24/100      5.93G      1.247      1.124      1.228        453        640: 100% ━━━━━━━━━━━━ 25/25 2.3it/s 10.9s\n",
            "\u001b[K                 Class     Images  Instances      Box(P          R      mAP50  mAP50-95): 100% ━━━━━━━━━━━━ 2/2 3.4it/s 0.6s\n",
            "                   all         50       1468      0.595       0.78      0.715      0.444\n",
            "\n",
            "      Epoch    GPU_mem   box_loss   cls_loss   dfl_loss  Instances       Size\n",
            "\u001b[K     25/100      5.93G      1.239      1.119      1.257        620        640: 100% ━━━━━━━━━━━━ 25/25 2.3it/s 10.8s\n",
            "\u001b[K                 Class     Images  Instances      Box(P          R      mAP50  mAP50-95): 100% ━━━━━━━━━━━━ 2/2 3.5it/s 0.6s\n",
            "                   all         50       1468      0.701      0.804      0.813      0.502\n",
            "\n",
            "      Epoch    GPU_mem   box_loss   cls_loss   dfl_loss  Instances       Size\n",
            "\u001b[K     26/100      5.93G      1.223      1.092      1.243        457        640: 100% ━━━━━━━━━━━━ 25/25 2.4it/s 10.3s\n",
            "\u001b[K                 Class     Images  Instances      Box(P          R      mAP50  mAP50-95): 100% ━━━━━━━━━━━━ 2/2 2.7it/s 0.7s\n",
            "                   all         50       1468      0.615      0.782      0.741      0.475\n",
            "\n",
            "      Epoch    GPU_mem   box_loss   cls_loss   dfl_loss  Instances       Size\n",
            "\u001b[K     27/100      5.93G      1.226      1.097      1.242        371        640: 100% ━━━━━━━━━━━━ 25/25 2.5it/s 9.8s\n",
            "\u001b[K                 Class     Images  Instances      Box(P          R      mAP50  mAP50-95): 100% ━━━━━━━━━━━━ 2/2 3.2it/s 0.6s\n",
            "                   all         50       1468       0.63      0.776      0.744      0.473\n",
            "\n",
            "      Epoch    GPU_mem   box_loss   cls_loss   dfl_loss  Instances       Size\n",
            "\u001b[K     28/100      5.93G      1.193       1.01      1.217        559        640: 100% ━━━━━━━━━━━━ 25/25 2.3it/s 10.7s\n",
            "\u001b[K                 Class     Images  Instances      Box(P          R      mAP50  mAP50-95): 100% ━━━━━━━━━━━━ 2/2 3.4it/s 0.6s\n",
            "                   all         50       1468      0.806      0.824      0.869      0.557\n",
            "\n",
            "      Epoch    GPU_mem   box_loss   cls_loss   dfl_loss  Instances       Size\n",
            "\u001b[K     29/100      5.93G      1.188      1.006      1.209        616        640: 100% ━━━━━━━━━━━━ 25/25 2.3it/s 11.0s\n",
            "\u001b[K                 Class     Images  Instances      Box(P          R      mAP50  mAP50-95): 100% ━━━━━━━━━━━━ 2/2 3.5it/s 0.6s\n",
            "                   all         50       1468       0.52       0.75      0.633      0.402\n",
            "\n",
            "      Epoch    GPU_mem   box_loss   cls_loss   dfl_loss  Instances       Size\n",
            "\u001b[K     30/100      5.93G      1.193     0.9731      1.216        524        640: 100% ━━━━━━━━━━━━ 25/25 2.2it/s 11.2s\n",
            "\u001b[K                 Class     Images  Instances      Box(P          R      mAP50  mAP50-95): 100% ━━━━━━━━━━━━ 2/2 3.6it/s 0.6s\n",
            "                   all         50       1468      0.673      0.759      0.762      0.459\n",
            "\n",
            "      Epoch    GPU_mem   box_loss   cls_loss   dfl_loss  Instances       Size\n",
            "\u001b[K     31/100      5.93G      1.206      1.012      1.208        602        640: 100% ━━━━━━━━━━━━ 25/25 2.3it/s 11.0s\n",
            "\u001b[K                 Class     Images  Instances      Box(P          R      mAP50  mAP50-95): 100% ━━━━━━━━━━━━ 2/2 3.5it/s 0.6s\n",
            "                   all         50       1468      0.648      0.742      0.733      0.439\n",
            "\n",
            "      Epoch    GPU_mem   box_loss   cls_loss   dfl_loss  Instances       Size\n",
            "\u001b[K     32/100      5.93G      1.177     0.9433      1.201        483        640: 100% ━━━━━━━━━━━━ 25/25 2.4it/s 10.5s\n",
            "\u001b[K                 Class     Images  Instances      Box(P          R      mAP50  mAP50-95): 100% ━━━━━━━━━━━━ 2/2 2.7it/s 0.7s\n",
            "                   all         50       1468      0.476       0.71      0.563      0.345\n",
            "\n",
            "      Epoch    GPU_mem   box_loss   cls_loss   dfl_loss  Instances       Size\n",
            "\u001b[K     33/100      5.93G      1.186      0.918      1.219        638        640: 100% ━━━━━━━━━━━━ 25/25 2.5it/s 9.9s\n",
            "\u001b[K                 Class     Images  Instances      Box(P          R      mAP50  mAP50-95): 100% ━━━━━━━━━━━━ 2/2 2.9it/s 0.7s\n",
            "                   all         50       1468      0.736      0.775      0.805      0.513\n",
            "\n",
            "      Epoch    GPU_mem   box_loss   cls_loss   dfl_loss  Instances       Size\n",
            "\u001b[K     34/100      5.93G      1.179     0.8771      1.214        551        640: 100% ━━━━━━━━━━━━ 25/25 2.4it/s 10.4s\n",
            "\u001b[K                 Class     Images  Instances      Box(P          R      mAP50  mAP50-95): 100% ━━━━━━━━━━━━ 2/2 3.6it/s 0.6s\n",
            "                   all         50       1468      0.653      0.719      0.712      0.446\n",
            "\n",
            "      Epoch    GPU_mem   box_loss   cls_loss   dfl_loss  Instances       Size\n",
            "\u001b[K     35/100      5.93G      1.194     0.9375       1.23        500        640: 100% ━━━━━━━━━━━━ 25/25 2.3it/s 11.0s\n",
            "\u001b[K                 Class     Images  Instances      Box(P          R      mAP50  mAP50-95): 100% ━━━━━━━━━━━━ 2/2 3.6it/s 0.6s\n",
            "                   all         50       1468      0.726      0.763      0.807      0.498\n",
            "\n",
            "      Epoch    GPU_mem   box_loss   cls_loss   dfl_loss  Instances       Size\n",
            "\u001b[K     36/100      5.93G      1.188     0.8862      1.208        620        640: 100% ━━━━━━━━━━━━ 25/25 2.2it/s 11.2s\n",
            "\u001b[K                 Class     Images  Instances      Box(P          R      mAP50  mAP50-95): 100% ━━━━━━━━━━━━ 2/2 3.5it/s 0.6s\n",
            "                   all         50       1468      0.795      0.808      0.863       0.51\n",
            "\n",
            "      Epoch    GPU_mem   box_loss   cls_loss   dfl_loss  Instances       Size\n",
            "\u001b[K     37/100      5.93G      1.184     0.8937      1.218        615        640: 100% ━━━━━━━━━━━━ 25/25 2.3it/s 10.9s\n",
            "\u001b[K                 Class     Images  Instances      Box(P          R      mAP50  mAP50-95): 100% ━━━━━━━━━━━━ 2/2 3.6it/s 0.6s\n",
            "                   all         50       1468      0.837      0.828      0.876      0.515\n",
            "\n",
            "      Epoch    GPU_mem   box_loss   cls_loss   dfl_loss  Instances       Size\n",
            "\u001b[K     38/100      5.93G      1.168     0.8321      1.199        508        640: 100% ━━━━━━━━━━━━ 25/25 2.4it/s 10.5s\n",
            "\u001b[K                 Class     Images  Instances      Box(P          R      mAP50  mAP50-95): 100% ━━━━━━━━━━━━ 2/2 2.7it/s 0.7s\n",
            "                   all         50       1468      0.833      0.869      0.886      0.558\n",
            "\n",
            "      Epoch    GPU_mem   box_loss   cls_loss   dfl_loss  Instances       Size\n",
            "\u001b[K     39/100      5.93G      1.165     0.8251       1.22        649        640: 100% ━━━━━━━━━━━━ 25/25 2.5it/s 9.9s\n",
            "\u001b[K                 Class     Images  Instances      Box(P          R      mAP50  mAP50-95): 100% ━━━━━━━━━━━━ 2/2 3.0it/s 0.7s\n",
            "                   all         50       1468      0.748      0.791      0.798      0.471\n",
            "\n",
            "      Epoch    GPU_mem   box_loss   cls_loss   dfl_loss  Instances       Size\n",
            "\u001b[K     40/100      5.93G      1.167     0.8114      1.211        616        640: 100% ━━━━━━━━━━━━ 25/25 2.4it/s 10.5s\n",
            "\u001b[K                 Class     Images  Instances      Box(P          R      mAP50  mAP50-95): 100% ━━━━━━━━━━━━ 2/2 3.6it/s 0.6s\n",
            "                   all         50       1468      0.874      0.864      0.919      0.538\n",
            "\n",
            "      Epoch    GPU_mem   box_loss   cls_loss   dfl_loss  Instances       Size\n",
            "\u001b[K     41/100      5.93G      1.164     0.8113      1.194        553        640: 100% ━━━━━━━━━━━━ 25/25 2.3it/s 11.1s\n",
            "\u001b[K                 Class     Images  Instances      Box(P          R      mAP50  mAP50-95): 100% ━━━━━━━━━━━━ 2/2 3.5it/s 0.6s\n",
            "                   all         50       1468      0.784      0.784      0.825      0.533\n",
            "\n",
            "      Epoch    GPU_mem   box_loss   cls_loss   dfl_loss  Instances       Size\n",
            "\u001b[K     42/100      5.93G      1.151     0.8115      1.208        573        640: 100% ━━━━━━━━━━━━ 25/25 2.3it/s 10.9s\n",
            "\u001b[K                 Class     Images  Instances      Box(P          R      mAP50  mAP50-95): 100% ━━━━━━━━━━━━ 2/2 3.6it/s 0.6s\n",
            "                   all         50       1468      0.886      0.865      0.918      0.602\n",
            "\n",
            "      Epoch    GPU_mem   box_loss   cls_loss   dfl_loss  Instances       Size\n",
            "\u001b[K     43/100      5.93G      1.194     0.7728        1.2        581        640: 100% ━━━━━━━━━━━━ 25/25 2.3it/s 11.0s\n",
            "\u001b[K                 Class     Images  Instances      Box(P          R      mAP50  mAP50-95): 100% ━━━━━━━━━━━━ 2/2 3.5it/s 0.6s\n",
            "                   all         50       1468      0.703      0.694      0.762       0.51\n",
            "\n",
            "      Epoch    GPU_mem   box_loss   cls_loss   dfl_loss  Instances       Size\n",
            "\u001b[K     44/100      5.93G      1.154     0.7827      1.188        676        640: 100% ━━━━━━━━━━━━ 25/25 2.3it/s 10.7s\n",
            "\u001b[K                 Class     Images  Instances      Box(P          R      mAP50  mAP50-95): 100% ━━━━━━━━━━━━ 2/2 2.9it/s 0.7s\n",
            "                   all         50       1468      0.577      0.698       0.65      0.394\n",
            "\n",
            "      Epoch    GPU_mem   box_loss   cls_loss   dfl_loss  Instances       Size\n",
            "\u001b[K     45/100      5.93G      1.123     0.7495      1.184        450        640: 100% ━━━━━━━━━━━━ 25/25 2.6it/s 9.7s\n",
            "\u001b[K                 Class     Images  Instances      Box(P          R      mAP50  mAP50-95): 100% ━━━━━━━━━━━━ 2/2 2.9it/s 0.7s\n",
            "                   all         50       1468      0.756      0.764       0.77      0.496\n",
            "\n",
            "      Epoch    GPU_mem   box_loss   cls_loss   dfl_loss  Instances       Size\n",
            "\u001b[K     46/100      5.93G      1.162     0.8266      1.207        533        640: 100% ━━━━━━━━━━━━ 25/25 2.4it/s 10.3s\n",
            "\u001b[K                 Class     Images  Instances      Box(P          R      mAP50  mAP50-95): 100% ━━━━━━━━━━━━ 2/2 3.6it/s 0.5s\n",
            "                   all         50       1468      0.402      0.563      0.443      0.289\n",
            "\n",
            "      Epoch    GPU_mem   box_loss   cls_loss   dfl_loss  Instances       Size\n",
            "\u001b[K     47/100      5.93G      1.164     0.8033      1.217        514        640: 100% ━━━━━━━━━━━━ 25/25 2.3it/s 10.9s\n",
            "\u001b[K                 Class     Images  Instances      Box(P          R      mAP50  mAP50-95): 100% ━━━━━━━━━━━━ 2/2 3.5it/s 0.6s\n",
            "                   all         50       1468      0.582      0.727      0.703      0.469\n",
            "\n",
            "      Epoch    GPU_mem   box_loss   cls_loss   dfl_loss  Instances       Size\n",
            "\u001b[K     48/100      5.93G      1.146     0.7526       1.19        589        640: 100% ━━━━━━━━━━━━ 25/25 2.2it/s 11.1s\n",
            "\u001b[K                 Class     Images  Instances      Box(P          R      mAP50  mAP50-95): 100% ━━━━━━━━━━━━ 2/2 3.5it/s 0.6s\n",
            "                   all         50       1468      0.829      0.835      0.866      0.563\n",
            "\n",
            "      Epoch    GPU_mem   box_loss   cls_loss   dfl_loss  Instances       Size\n",
            "\u001b[K     49/100      5.93G      1.146     0.7537      1.198        821        640: 100% ━━━━━━━━━━━━ 25/25 2.3it/s 10.9s\n",
            "\u001b[K                 Class     Images  Instances      Box(P          R      mAP50  mAP50-95): 100% ━━━━━━━━━━━━ 2/2 3.6it/s 0.6s\n",
            "                   all         50       1468      0.784      0.808       0.85      0.559\n",
            "\n",
            "      Epoch    GPU_mem   box_loss   cls_loss   dfl_loss  Instances       Size\n",
            "\u001b[K     50/100      5.93G      1.133       0.73      1.193        400        640: 100% ━━━━━━━━━━━━ 25/25 2.4it/s 10.3s\n",
            "\u001b[K                 Class     Images  Instances      Box(P          R      mAP50  mAP50-95): 100% ━━━━━━━━━━━━ 2/2 3.0it/s 0.7s\n",
            "                   all         50       1468      0.802      0.809      0.853      0.555\n",
            "\n",
            "      Epoch    GPU_mem   box_loss   cls_loss   dfl_loss  Instances       Size\n",
            "\u001b[K     51/100      5.93G      1.149     0.7419       1.19        625        640: 100% ━━━━━━━━━━━━ 25/25 2.6it/s 9.8s\n",
            "\u001b[K                 Class     Images  Instances      Box(P          R      mAP50  mAP50-95): 100% ━━━━━━━━━━━━ 2/2 3.0it/s 0.7s\n",
            "                   all         50       1468       0.82      0.821      0.859      0.567\n",
            "\n",
            "      Epoch    GPU_mem   box_loss   cls_loss   dfl_loss  Instances       Size\n",
            "\u001b[K     52/100      5.93G      1.158     0.7343      1.188        431        640: 100% ━━━━━━━━━━━━ 25/25 2.3it/s 10.7s\n",
            "\u001b[K                 Class     Images  Instances      Box(P          R      mAP50  mAP50-95): 100% ━━━━━━━━━━━━ 2/2 3.6it/s 0.6s\n",
            "                   all         50       1468      0.835      0.827      0.864      0.562\n",
            "\n",
            "      Epoch    GPU_mem   box_loss   cls_loss   dfl_loss  Instances       Size\n",
            "\u001b[K     53/100      5.93G      1.122     0.6926      1.176        590        640: 100% ━━━━━━━━━━━━ 25/25 2.2it/s 11.2s\n",
            "\u001b[K                 Class     Images  Instances      Box(P          R      mAP50  mAP50-95): 100% ━━━━━━━━━━━━ 2/2 3.5it/s 0.6s\n",
            "                   all         50       1468      0.841       0.87       0.89      0.568\n",
            "\n",
            "      Epoch    GPU_mem   box_loss   cls_loss   dfl_loss  Instances       Size\n",
            "\u001b[K     54/100      5.93G      1.128     0.6961      1.206        537        640: 100% ━━━━━━━━━━━━ 25/25 2.3it/s 10.9s\n",
            "\u001b[K                 Class     Images  Instances      Box(P          R      mAP50  mAP50-95): 100% ━━━━━━━━━━━━ 2/2 3.5it/s 0.6s\n",
            "                   all         50       1468      0.802        0.8      0.834      0.546\n",
            "\n",
            "      Epoch    GPU_mem   box_loss   cls_loss   dfl_loss  Instances       Size\n",
            "\u001b[K     55/100      5.93G      1.116     0.6778      1.195        614        640: 100% ━━━━━━━━━━━━ 25/25 2.3it/s 10.9s\n",
            "\u001b[K                 Class     Images  Instances      Box(P          R      mAP50  mAP50-95): 100% ━━━━━━━━━━━━ 2/2 3.6it/s 0.6s\n",
            "                   all         50       1468      0.844      0.838      0.881      0.578\n",
            "\n",
            "      Epoch    GPU_mem   box_loss   cls_loss   dfl_loss  Instances       Size\n",
            "\u001b[K     56/100      5.93G      1.127     0.6861      1.205        559        640: 100% ━━━━━━━━━━━━ 25/25 2.4it/s 10.4s\n",
            "\u001b[K                 Class     Images  Instances      Box(P          R      mAP50  mAP50-95): 100% ━━━━━━━━━━━━ 2/2 2.9it/s 0.7s\n",
            "                   all         50       1468      0.847      0.851       0.89      0.572\n",
            "\n",
            "      Epoch    GPU_mem   box_loss   cls_loss   dfl_loss  Instances       Size\n",
            "\u001b[K     57/100      5.93G      1.107     0.6729      1.174        446        640: 100% ━━━━━━━━━━━━ 25/25 2.6it/s 9.8s\n",
            "\u001b[K                 Class     Images  Instances      Box(P          R      mAP50  mAP50-95): 100% ━━━━━━━━━━━━ 2/2 3.4it/s 0.6s\n",
            "                   all         50       1468      0.846      0.824      0.869      0.559\n",
            "\n",
            "      Epoch    GPU_mem   box_loss   cls_loss   dfl_loss  Instances       Size\n",
            "\u001b[K     58/100      5.93G      1.108     0.6627      1.182        478        640: 100% ━━━━━━━━━━━━ 25/25 2.3it/s 10.8s\n",
            "\u001b[K                 Class     Images  Instances      Box(P          R      mAP50  mAP50-95): 100% ━━━━━━━━━━━━ 2/2 3.6it/s 0.6s\n",
            "                   all         50       1468      0.772      0.799       0.81      0.539\n",
            "\n",
            "      Epoch    GPU_mem   box_loss   cls_loss   dfl_loss  Instances       Size\n",
            "\u001b[K     59/100      5.93G        1.1     0.6647      1.177        532        640: 100% ━━━━━━━━━━━━ 25/25 2.2it/s 11.2s\n",
            "\u001b[K                 Class     Images  Instances      Box(P          R      mAP50  mAP50-95): 100% ━━━━━━━━━━━━ 2/2 3.6it/s 0.6s\n",
            "                   all         50       1468      0.828      0.831       0.87      0.552\n",
            "\n",
            "      Epoch    GPU_mem   box_loss   cls_loss   dfl_loss  Instances       Size\n",
            "\u001b[K     60/100      5.93G      1.123     0.6824       1.19        478        640: 100% ━━━━━━━━━━━━ 25/25 2.3it/s 11.1s\n",
            "\u001b[K                 Class     Images  Instances      Box(P          R      mAP50  mAP50-95): 100% ━━━━━━━━━━━━ 2/2 3.6it/s 0.6s\n",
            "                   all         50       1468      0.851      0.864      0.885      0.575\n",
            "\n",
            "      Epoch    GPU_mem   box_loss   cls_loss   dfl_loss  Instances       Size\n",
            "\u001b[K     61/100      5.93G      1.086     0.6357      1.165        645        640: 100% ━━━━━━━━━━━━ 25/25 2.3it/s 10.9s\n",
            "\u001b[K                 Class     Images  Instances      Box(P          R      mAP50  mAP50-95): 100% ━━━━━━━━━━━━ 2/2 3.5it/s 0.6s\n",
            "                   all         50       1468      0.801      0.795      0.838      0.526\n",
            "\n",
            "      Epoch    GPU_mem   box_loss   cls_loss   dfl_loss  Instances       Size\n",
            "\u001b[K     62/100      5.93G      1.088     0.6477       1.18        433        640: 100% ━━━━━━━━━━━━ 25/25 2.4it/s 10.4s\n",
            "\u001b[K                 Class     Images  Instances      Box(P          R      mAP50  mAP50-95): 100% ━━━━━━━━━━━━ 2/2 3.1it/s 0.7s\n",
            "                   all         50       1468      0.766      0.758      0.815      0.505\n",
            "\u001b[34m\u001b[1mEarlyStopping: \u001b[0mTraining stopped early as no improvement observed in last 20 epochs. Best results observed at epoch 42, best model saved as best.pt.\n",
            "To update EarlyStopping(patience=20) pass a new patience value, i.e. `patience=300` or use `patience=0` to disable EarlyStopping.\n",
            "\n",
            "62 epochs completed in 0.210 hours.\n",
            "Optimizer stripped from runs/detect/train/weights/last.pt, 15.3MB\n",
            "Optimizer stripped from runs/detect/train/weights/best.pt, 15.3MB\n",
            "\n",
            "Validating runs/detect/train/weights/best.pt...\n",
            "Ultralytics 8.3.189 🚀 Python-3.12.11 torch-2.8.0+cu126 CUDA:0 (Tesla T4, 15095MiB)\n",
            "YOLOv9s summary (fused): 197 layers, 7,179,472 parameters, 0 gradients, 26.8 GFLOPs\n",
            "\u001b[K                 Class     Images  Instances      Box(P          R      mAP50  mAP50-95): 100% ━━━━━━━━━━━━ 2/2 2.3it/s 0.9s\n",
            "                   all         50       1468      0.887      0.864      0.918      0.602\n",
            "           Canine (13)         48         48      0.974      0.854      0.949      0.618\n",
            "           Canine (23)         48         49      0.843      0.876      0.871      0.525\n",
            "           Canine (33)         49         49      0.776      0.848      0.875      0.541\n",
            "           Canine (43)         48         48      0.902      0.854      0.957      0.579\n",
            "  Central Incisor (21)         48         48      0.884      0.833      0.908      0.581\n",
            "  Central Incisor (41)         48         48      0.927      0.794      0.909      0.491\n",
            "  Central Incisor (31)         49         49       0.89      0.898      0.912      0.482\n",
            "  Central Incisor (11)         48         48      0.933      0.873      0.945      0.621\n",
            "      First Molar (16)         48         48      0.911      0.833       0.93      0.656\n",
            "      First Molar (26)         46         46      0.892       0.87      0.935      0.615\n",
            "      First Molar (36)         39         39      0.912      0.923      0.925      0.694\n",
            "      First Molar (46)         41         41      0.913      0.854      0.919      0.725\n",
            "   First Premolar (14)         44         44      0.949      0.842      0.937      0.549\n",
            "   First Premolar (34)         48         48      0.807      0.917      0.887      0.592\n",
            "   First Premolar (44)         48         48      0.976      0.844      0.958      0.592\n",
            "   First Premolar (24)         47         47      0.883      0.851      0.918      0.504\n",
            "  Lateral Incisor (22)         48         48        0.9      0.937      0.888      0.489\n",
            "  Lateral Incisor (32)         49         49      0.829      0.793      0.859      0.461\n",
            "  Lateral Incisor (42)         48         48      0.897      0.727      0.902       0.53\n",
            "  Lateral Incisor (12)         47         47      0.931      0.859       0.92      0.554\n",
            "     Second Molar (17)         49         49      0.887      0.857      0.931      0.653\n",
            "     Second Molar (27)         48         48      0.853      0.845      0.899      0.631\n",
            "     Second Molar (37)         44         44      0.899      0.932      0.954      0.696\n",
            "     Second Molar (47)         43         43      0.858      0.884      0.932       0.75\n",
            "  Second Premolar (15)         45         45      0.922      0.867      0.922      0.602\n",
            "  Second Premolar (25)         46         46      0.867      0.826      0.882      0.579\n",
            "  Second Premolar (35)         47         47      0.875      0.915      0.924      0.623\n",
            "  Second Premolar (45)         48         48      0.953       0.85      0.932      0.647\n",
            "      Third Molar (18)         39         39      0.806      0.923      0.925      0.625\n",
            "      Third Molar (28)         40         40      0.841      0.875       0.89       0.61\n",
            "      Third Molar (38)         39         39      0.816      0.913      0.936      0.697\n",
            "      Third Molar (48)         40         40      0.873      0.875      0.944      0.758\n",
            "Speed: 0.3ms preprocess, 7.2ms inference, 0.0ms loss, 2.5ms postprocess per image\n",
            "Results saved to \u001b[1mruns/detect/train\u001b[0m\n"
          ]
        }
      ]
    },
    {
      "cell_type": "code",
      "source": [],
      "metadata": {
        "id": "jNjwJpWYS2Hx"
      },
      "execution_count": 5,
      "outputs": []
    },
    {
      "cell_type": "code",
      "source": [],
      "metadata": {
        "id": "q21f6GxBS2K7"
      },
      "execution_count": 5,
      "outputs": []
    },
    {
      "cell_type": "code",
      "source": [],
      "metadata": {
        "id": "eEQr1pfiS2N1"
      },
      "execution_count": 5,
      "outputs": []
    },
    {
      "cell_type": "code",
      "source": [],
      "metadata": {
        "id": "uPvivyliS2RI"
      },
      "execution_count": 5,
      "outputs": []
    },
    {
      "cell_type": "code",
      "source": [],
      "metadata": {
        "id": "fwexBVi7S2Ug"
      },
      "execution_count": 5,
      "outputs": []
    },
    {
      "cell_type": "code",
      "source": [],
      "metadata": {
        "id": "2NZ_C55BS3Hq"
      },
      "execution_count": 5,
      "outputs": []
    },
    {
      "cell_type": "code",
      "source": [],
      "metadata": {
        "id": "xfdSHWS0S3K0"
      },
      "execution_count": 5,
      "outputs": []
    },
    {
      "cell_type": "code",
      "source": [],
      "metadata": {
        "id": "lRXMqE6dS3OK"
      },
      "execution_count": 5,
      "outputs": []
    },
    {
      "cell_type": "code",
      "source": [],
      "metadata": {
        "id": "15iVfETIS3Rp"
      },
      "execution_count": 5,
      "outputs": []
    },
    {
      "cell_type": "code",
      "source": [],
      "metadata": {
        "id": "02DBQHqeS3Ux"
      },
      "execution_count": 5,
      "outputs": []
    },
    {
      "cell_type": "code",
      "source": [],
      "metadata": {
        "id": "FXWRlWdsS3X0"
      },
      "execution_count": 5,
      "outputs": []
    },
    {
      "cell_type": "code",
      "source": [],
      "metadata": {
        "id": "6ikfzKraS3a1"
      },
      "execution_count": 5,
      "outputs": []
    },
    {
      "cell_type": "code",
      "source": [],
      "metadata": {
        "id": "DZQQu4TRS3dp"
      },
      "execution_count": 5,
      "outputs": []
    },
    {
      "cell_type": "code",
      "source": [],
      "metadata": {
        "id": "NNNv_tqxS3gv"
      },
      "execution_count": 5,
      "outputs": []
    },
    {
      "cell_type": "code",
      "source": [],
      "metadata": {
        "id": "LXvBIe2KS3j3"
      },
      "execution_count": 5,
      "outputs": []
    },
    {
      "cell_type": "code",
      "source": [],
      "metadata": {
        "id": "5OS86wZRS3m-"
      },
      "execution_count": 5,
      "outputs": []
    },
    {
      "cell_type": "code",
      "source": [],
      "metadata": {
        "id": "SRNf0fCbS3p4"
      },
      "execution_count": 5,
      "outputs": []
    },
    {
      "cell_type": "code",
      "source": [],
      "metadata": {
        "id": "vy_n9YtvS3tG"
      },
      "execution_count": 5,
      "outputs": []
    },
    {
      "cell_type": "code",
      "source": [],
      "metadata": {
        "id": "41JccmmRS3v9"
      },
      "execution_count": 5,
      "outputs": []
    },
    {
      "cell_type": "code",
      "source": [],
      "metadata": {
        "id": "o6HkHmSAS3y4"
      },
      "execution_count": 5,
      "outputs": []
    },
    {
      "cell_type": "code",
      "source": [],
      "metadata": {
        "id": "OG_hSSPNS31y"
      },
      "execution_count": 5,
      "outputs": []
    },
    {
      "cell_type": "code",
      "source": [],
      "metadata": {
        "id": "A_ypdFpfS34s"
      },
      "execution_count": 5,
      "outputs": []
    },
    {
      "cell_type": "code",
      "source": [],
      "metadata": {
        "id": "nbqFowitS37n"
      },
      "execution_count": 5,
      "outputs": []
    },
    {
      "cell_type": "code",
      "source": [],
      "metadata": {
        "id": "A5-2DOhIS3_I"
      },
      "execution_count": 5,
      "outputs": []
    }
  ]
}